{
 "cells": [
  {
   "cell_type": "markdown",
   "metadata": {},
   "source": [
    "# Aprendizaje Automático\n",
    "\n",
    "* Ya revisamos la técnica más sencilla de clasificación, Naïve Bayes.\n",
    "* Hay otra técnica básica muy usada antes de ver los temas avanzados: Regresión Lineal.\n",
    "\n",
    "## Regresión Lineal\n",
    "El método de regresión lineal presenta algunas ventajas:  \n",
    "* Puede hacerse con pocos datos $\\sim 300$.  \n",
    "* Es muy sencillo de construir e implementar.  \n",
    "* El efecto de las variables puede interpretarse de forma intuitiva.\n",
    "* No requiere gran poder de cómputo\n",
    "\n",
    "También supone algunas desventajas:\n",
    "* Tiene un desempeño limitado\n",
    "* Asume que no existe correlación entre las variables. (También el método de Bayes)"
   ]
  },
  {
   "cell_type": "markdown",
   "metadata": {},
   "source": [
    "Un modelo lineal asume que, si una variable aleatoria $y$ está correlacionada con un conjunto de $N$ variables $\\vec{x}$, la esperanza de $y$, dado que se tienen los valor $x^k$, está dada por:\n",
    "$$\n",
    "E(y|x^k) = \\sum_{k=1}^{N} \\beta_{k} x ^{k} + \\beta_0.\n",
    "$$\n",
    "\n",
    "Fueron ampliamente desarrolladas y usadas antes de la estadística computacional, y funcionan en situaciones donde se tienen pocos datos, donde el cociente de señal a ruido es $\\sim 1$, o se tienen datos con poca separación. Incluso en algunas situaciones, pueden desempeñarse mejor que otros métodos más sofisticados.\n",
    "\n",
    "Usando el método de mínimos cuadrados, es fácil encontrar una expresión para los $\\beta_k$ en términos de los datos $x^{k}_{i}$ y $y_{i}$ de entrenamiento:\n",
    "\n",
    "$$\n",
    "\\left(\\begin{array}. \n",
    "\\hat{\\beta}_0 \\\\\n",
    "\\hat{\\beta}_1 \\\\\n",
    "\\vdots \\\\\n",
    "\\hat{\\beta}_k \\\\\n",
    "\\vdots \\\\\n",
    "\\hat{\\beta}_N\n",
    "\\end{array}\\right) \n",
    "= \n",
    "\\left(\\begin{array}.\n",
    "n & n\\bar{x}^{1}  & \\ldots & n\\bar{x}^{k} & \\ldots & n\\bar{x}^{N}\\\\\n",
    "n\\bar{x}^{1} & \\sum (x^{1}_i)^2 & \\ldots & \\sum x^{k}_ix^{1}_i& \\ldots & \\sum x^{N}_ix^{1}_i\\\\\n",
    "\\vdots & \\vdots & \\ddots & \\vdots & \\ldots & \\vdots\\\\\n",
    "n\\bar{x}^{1} & \\sum x^{1}_ix^{k}_i & \\ldots & \\sum (x^{k}_i)^2& \\ldots & \\sum x^{N}_ix^{k}_i\\\\\n",
    "\\vdots & \\vdots & \\ldots & \\vdots & \\ddots & \\vdots\\\\\n",
    "n\\bar{x}^{1} & \\sum x^{1}_ix^{N}_i & \\ldots & \\sum x^{k}_ix^{N}_i& \\ldots & \\sum (x^{N}_i)^2\n",
    "\\end{array}\\right)^{\\Large -1}\n",
    "\\left(\\begin{array}. \n",
    "n\\bar{y} \\\\ \n",
    "\\sum x^{1}_iy_i \\\\\n",
    "\\vdots \\\\\n",
    "\\sum x^{k}_iy_i \\\\\n",
    "\\vdots \\\\\n",
    "\\sum x^{N}_iy_i\n",
    "\\end{array}\\right),\n",
    "$$ \n",
    "donde todas las sumas van de $1\\ldots n$, donde $n$ es el número de datos."
   ]
  },
  {
   "cell_type": "code",
   "execution_count": null,
   "metadata": {
    "collapsed": true
   },
   "outputs": [],
   "source": []
  }
 ],
 "metadata": {
  "kernelspec": {
   "display_name": "Python 3",
   "language": "python",
   "name": "python3"
  },
  "language_info": {
   "codemirror_mode": {
    "name": "ipython",
    "version": 3
   },
   "file_extension": ".py",
   "mimetype": "text/x-python",
   "name": "python",
   "nbconvert_exporter": "python",
   "pygments_lexer": "ipython3",
   "version": "3.5.1"
  }
 },
 "nbformat": 4,
 "nbformat_minor": 0
}
