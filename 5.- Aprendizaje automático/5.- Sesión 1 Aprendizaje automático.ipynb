{
 "cells": [
  {
   "cell_type": "markdown",
   "metadata": {},
   "source": [
    "# Aprendizaje no Automático\n",
    "* Sistemas expertos, por ejemplo los _score cards_ usados para otorgar créditos antes de uso masivo de las computadoras.\n",
    "* Para esta semana, analizaremos las técnicas de aprendizaje computacional desde la perspectiva del riesgo crediticio.\n",
    "* Aprenderemos a crear un clasificador de riesgo crediticio, que **aprenda** a otorgar una calificación dado que recibe cierta información de un cliente.\n",
    "\n",
    "Tomemos por ejemplo los datos de [https://archive.ics.uci.edu/ml/datasets/Statlog+(German+Credit+Data)](https://archive.ics.uci.edu/ml/datasets/Statlog+\\(German+Credit+Data\\)).  Exploremos su contenido:\n"
   ]
  },
  {
   "cell_type": "code",
   "execution_count": 1,
   "metadata": {
    "collapsed": false
   },
   "outputs": [
    {
     "name": "stdout",
     "output_type": "stream",
     "text": [
      "A11 6 A34 A43 1169 A65 A75 4 A93 A101 4 A121 67 A143 A152 2 A173 1 A192 A201 1\r\n",
      "A12 48 A32 A43 5951 A61 A73 2 A92 A101 2 A121 22 A143 A152 1 A173 1 A191 A201 2\r\n",
      "A14 12 A34 A46 2096 A61 A74 2 A93 A101 3 A121 49 A143 A152 1 A172 2 A191 A201 1\r\n",
      "A11 42 A32 A42 7882 A61 A74 2 A93 A103 4 A122 45 A143 A153 1 A173 2 A191 A201 1\r\n",
      "A11 24 A33 A40 4870 A61 A73 3 A93 A101 4 A124 53 A143 A153 2 A173 2 A191 A201 2\r\n",
      "A14 36 A32 A46 9055 A65 A73 2 A93 A101 4 A124 35 A143 A153 1 A172 2 A192 A201 1\r\n",
      "A14 24 A32 A42 2835 A63 A75 3 A93 A101 4 A122 53 A143 A152 1 A173 1 A191 A201 1\r\n",
      "A12 36 A32 A41 6948 A61 A73 2 A93 A101 2 A123 35 A143 A151 1 A174 1 A192 A201 1\r\n",
      "A14 12 A32 A43 3059 A64 A74 2 A91 A101 4 A121 61 A143 A152 1 A172 1 A191 A201 1\r\n",
      "A12 30 A34 A40 5234 A61 A71 4 A94 A101 2 A123 28 A143 A152 2 A174 1 A191 A201 2\r\n"
     ]
    }
   ],
   "source": [
    "!head data/german.data"
   ]
  },
  {
   "cell_type": "markdown",
   "metadata": {},
   "source": [
    "* ¿Qué significan todas estas claves?\n",
    "* ¿Qué hacemos cuando tenemos este tipo de datos?\n",
    "* ¿Se pueden usar histogramas?\n",
    "\n",
    "La descripción de los datos viene en el archivo `data/german.doc`"
   ]
  },
  {
   "cell_type": "code",
   "execution_count": 2,
   "metadata": {
    "collapsed": false
   },
   "outputs": [
    {
     "name": "stdout",
     "output_type": "stream",
     "text": [
      "Description of the German credit dataset.\r\n",
      "\r\n",
      "1. Title: German Credit data\r\n",
      "\r\n",
      "2. Source Information\r\n",
      "\r\n",
      "Professor Dr. Hans Hofmann  \r\n",
      "Institut f\"ur Statistik und \"Okonometrie  \r\n",
      "Universit\"at Hamburg  \r\n",
      "FB Wirtschaftswissenschaften  \r\n"
     ]
    }
   ],
   "source": [
    "!head data/german.doc"
   ]
  },
  {
   "cell_type": "markdown",
   "metadata": {},
   "source": [
    "**Por favor, leánla en detalle al finalizar la sesión.**"
   ]
  },
  {
   "cell_type": "markdown",
   "metadata": {},
   "source": [
    "## Score cards  \n",
    "**¿Cómo comenzamos a usar la información contenida en los datos?**  \n",
    "* Necesitamos saber qué significa cada columna,  \n",
    "* Ponerlos en un formato analizable,  \n",
    "* Comenzar a hacer algunos histogramas,  \n",
    "\n",
    "**Por ahora yo hice un trabajo previo para ponerles nombres a las columnas, y estructurarlos de forma que no sean útiles. Es tarea para ustedes hacer su propio script que tome el archivo original y lo convierta en en un archivo similar al siguiente:**"
   ]
  },
  {
   "cell_type": "code",
   "execution_count": 3,
   "metadata": {
    "collapsed": false
   },
   "outputs": [
    {
     "name": "stdout",
     "output_type": "stream",
     "text": [
      "\"checking_acc_numeric\",\"time_credit_acc\",\"credit_history_numeric\",\"purpose_numeric\",\"amount\",\"savings_acc_numeric\",\"p_employment_time_numeric\",\"installment_rate\",\"marita_status_sex_numeric\",\"other_debtors_numeric\",\"p_residence_time\",\"property_numeric\",\"age\",\"other_installment_numeric\",\"housing_numeric\",\"number_of_credits\",\"job_numeric\",\"dependants\",\"has_phone_numeric\",\"foreign_worker_numeric\",\"is_good\"\r\n",
      "1,6,3,1,1169,0,5,4,1,1,4,4,67,0,1,2,3,1,1,1,1\r\n",
      "2,48,4,1,5951,1,3,2,2,1,2,4,22,0,1,1,3,1,0,1,2\r\n",
      "4,12,3,6,2096,1,4,2,1,1,3,4,49,0,1,1,2,2,0,1,1\r\n",
      "1,42,4,3,7882,1,4,2,1,2,4,3,45,0,0,1,3,2,0,1,1\r\n",
      "1,24,2,2,4870,1,3,3,1,1,4,0,53,0,0,2,3,2,0,1,2\r\n",
      "4,36,4,6,9055,0,3,2,1,1,4,0,35,0,0,1,2,2,1,1,1\r\n",
      "4,24,4,3,2835,3,5,3,1,1,4,3,53,0,1,1,3,1,0,1,1\r\n",
      "2,36,4,4,6948,1,3,2,1,1,2,2,35,0,2,1,4,1,1,1,1\r\n",
      "4,12,4,1,3059,4,4,2,4,1,4,4,61,0,1,1,2,1,0,1,1\r\n"
     ]
    }
   ],
   "source": [
    "!head data/german.data.all-numeric.csv"
   ]
  },
  {
   "cell_type": "markdown",
   "metadata": {},
   "source": [
    "Por supuesto, ustedes prefieren usar `pandas` para visualizarlos. "
   ]
  },
  {
   "cell_type": "code",
   "execution_count": 4,
   "metadata": {
    "collapsed": false
   },
   "outputs": [
    {
     "data": {
      "text/html": [
       "<div>\n",
       "<table border=\"1\" class=\"dataframe\">\n",
       "  <thead>\n",
       "    <tr style=\"text-align: right;\">\n",
       "      <th></th>\n",
       "      <th>checking_acc_numeric</th>\n",
       "      <th>time_credit_acc</th>\n",
       "      <th>credit_history_numeric</th>\n",
       "      <th>purpose_numeric</th>\n",
       "      <th>amount</th>\n",
       "      <th>savings_acc_numeric</th>\n",
       "      <th>p_employment_time_numeric</th>\n",
       "      <th>installment_rate</th>\n",
       "      <th>marita_status_sex_numeric</th>\n",
       "      <th>other_debtors_numeric</th>\n",
       "      <th>...</th>\n",
       "      <th>property_numeric</th>\n",
       "      <th>age</th>\n",
       "      <th>other_installment_numeric</th>\n",
       "      <th>housing_numeric</th>\n",
       "      <th>number_of_credits</th>\n",
       "      <th>job_numeric</th>\n",
       "      <th>dependants</th>\n",
       "      <th>has_phone_numeric</th>\n",
       "      <th>foreign_worker_numeric</th>\n",
       "      <th>is_good</th>\n",
       "    </tr>\n",
       "  </thead>\n",
       "  <tbody>\n",
       "    <tr>\n",
       "      <th>0</th>\n",
       "      <td>1</td>\n",
       "      <td>6</td>\n",
       "      <td>3</td>\n",
       "      <td>1</td>\n",
       "      <td>1169</td>\n",
       "      <td>0</td>\n",
       "      <td>5</td>\n",
       "      <td>4</td>\n",
       "      <td>1</td>\n",
       "      <td>1</td>\n",
       "      <td>...</td>\n",
       "      <td>4</td>\n",
       "      <td>67</td>\n",
       "      <td>0</td>\n",
       "      <td>1</td>\n",
       "      <td>2</td>\n",
       "      <td>3</td>\n",
       "      <td>1</td>\n",
       "      <td>1</td>\n",
       "      <td>1</td>\n",
       "      <td>1</td>\n",
       "    </tr>\n",
       "    <tr>\n",
       "      <th>1</th>\n",
       "      <td>2</td>\n",
       "      <td>48</td>\n",
       "      <td>4</td>\n",
       "      <td>1</td>\n",
       "      <td>5951</td>\n",
       "      <td>1</td>\n",
       "      <td>3</td>\n",
       "      <td>2</td>\n",
       "      <td>2</td>\n",
       "      <td>1</td>\n",
       "      <td>...</td>\n",
       "      <td>4</td>\n",
       "      <td>22</td>\n",
       "      <td>0</td>\n",
       "      <td>1</td>\n",
       "      <td>1</td>\n",
       "      <td>3</td>\n",
       "      <td>1</td>\n",
       "      <td>0</td>\n",
       "      <td>1</td>\n",
       "      <td>2</td>\n",
       "    </tr>\n",
       "    <tr>\n",
       "      <th>2</th>\n",
       "      <td>4</td>\n",
       "      <td>12</td>\n",
       "      <td>3</td>\n",
       "      <td>6</td>\n",
       "      <td>2096</td>\n",
       "      <td>1</td>\n",
       "      <td>4</td>\n",
       "      <td>2</td>\n",
       "      <td>1</td>\n",
       "      <td>1</td>\n",
       "      <td>...</td>\n",
       "      <td>4</td>\n",
       "      <td>49</td>\n",
       "      <td>0</td>\n",
       "      <td>1</td>\n",
       "      <td>1</td>\n",
       "      <td>2</td>\n",
       "      <td>2</td>\n",
       "      <td>0</td>\n",
       "      <td>1</td>\n",
       "      <td>1</td>\n",
       "    </tr>\n",
       "    <tr>\n",
       "      <th>3</th>\n",
       "      <td>1</td>\n",
       "      <td>42</td>\n",
       "      <td>4</td>\n",
       "      <td>3</td>\n",
       "      <td>7882</td>\n",
       "      <td>1</td>\n",
       "      <td>4</td>\n",
       "      <td>2</td>\n",
       "      <td>1</td>\n",
       "      <td>2</td>\n",
       "      <td>...</td>\n",
       "      <td>3</td>\n",
       "      <td>45</td>\n",
       "      <td>0</td>\n",
       "      <td>0</td>\n",
       "      <td>1</td>\n",
       "      <td>3</td>\n",
       "      <td>2</td>\n",
       "      <td>0</td>\n",
       "      <td>1</td>\n",
       "      <td>1</td>\n",
       "    </tr>\n",
       "    <tr>\n",
       "      <th>4</th>\n",
       "      <td>1</td>\n",
       "      <td>24</td>\n",
       "      <td>2</td>\n",
       "      <td>2</td>\n",
       "      <td>4870</td>\n",
       "      <td>1</td>\n",
       "      <td>3</td>\n",
       "      <td>3</td>\n",
       "      <td>1</td>\n",
       "      <td>1</td>\n",
       "      <td>...</td>\n",
       "      <td>0</td>\n",
       "      <td>53</td>\n",
       "      <td>0</td>\n",
       "      <td>0</td>\n",
       "      <td>2</td>\n",
       "      <td>3</td>\n",
       "      <td>2</td>\n",
       "      <td>0</td>\n",
       "      <td>1</td>\n",
       "      <td>2</td>\n",
       "    </tr>\n",
       "    <tr>\n",
       "      <th>5</th>\n",
       "      <td>4</td>\n",
       "      <td>36</td>\n",
       "      <td>4</td>\n",
       "      <td>6</td>\n",
       "      <td>9055</td>\n",
       "      <td>0</td>\n",
       "      <td>3</td>\n",
       "      <td>2</td>\n",
       "      <td>1</td>\n",
       "      <td>1</td>\n",
       "      <td>...</td>\n",
       "      <td>0</td>\n",
       "      <td>35</td>\n",
       "      <td>0</td>\n",
       "      <td>0</td>\n",
       "      <td>1</td>\n",
       "      <td>2</td>\n",
       "      <td>2</td>\n",
       "      <td>1</td>\n",
       "      <td>1</td>\n",
       "      <td>1</td>\n",
       "    </tr>\n",
       "    <tr>\n",
       "      <th>6</th>\n",
       "      <td>4</td>\n",
       "      <td>24</td>\n",
       "      <td>4</td>\n",
       "      <td>3</td>\n",
       "      <td>2835</td>\n",
       "      <td>3</td>\n",
       "      <td>5</td>\n",
       "      <td>3</td>\n",
       "      <td>1</td>\n",
       "      <td>1</td>\n",
       "      <td>...</td>\n",
       "      <td>3</td>\n",
       "      <td>53</td>\n",
       "      <td>0</td>\n",
       "      <td>1</td>\n",
       "      <td>1</td>\n",
       "      <td>3</td>\n",
       "      <td>1</td>\n",
       "      <td>0</td>\n",
       "      <td>1</td>\n",
       "      <td>1</td>\n",
       "    </tr>\n",
       "    <tr>\n",
       "      <th>7</th>\n",
       "      <td>2</td>\n",
       "      <td>36</td>\n",
       "      <td>4</td>\n",
       "      <td>4</td>\n",
       "      <td>6948</td>\n",
       "      <td>1</td>\n",
       "      <td>3</td>\n",
       "      <td>2</td>\n",
       "      <td>1</td>\n",
       "      <td>1</td>\n",
       "      <td>...</td>\n",
       "      <td>2</td>\n",
       "      <td>35</td>\n",
       "      <td>0</td>\n",
       "      <td>2</td>\n",
       "      <td>1</td>\n",
       "      <td>4</td>\n",
       "      <td>1</td>\n",
       "      <td>1</td>\n",
       "      <td>1</td>\n",
       "      <td>1</td>\n",
       "    </tr>\n",
       "    <tr>\n",
       "      <th>8</th>\n",
       "      <td>4</td>\n",
       "      <td>12</td>\n",
       "      <td>4</td>\n",
       "      <td>1</td>\n",
       "      <td>3059</td>\n",
       "      <td>4</td>\n",
       "      <td>4</td>\n",
       "      <td>2</td>\n",
       "      <td>4</td>\n",
       "      <td>1</td>\n",
       "      <td>...</td>\n",
       "      <td>4</td>\n",
       "      <td>61</td>\n",
       "      <td>0</td>\n",
       "      <td>1</td>\n",
       "      <td>1</td>\n",
       "      <td>2</td>\n",
       "      <td>1</td>\n",
       "      <td>0</td>\n",
       "      <td>1</td>\n",
       "      <td>1</td>\n",
       "    </tr>\n",
       "    <tr>\n",
       "      <th>9</th>\n",
       "      <td>2</td>\n",
       "      <td>30</td>\n",
       "      <td>3</td>\n",
       "      <td>2</td>\n",
       "      <td>5234</td>\n",
       "      <td>1</td>\n",
       "      <td>1</td>\n",
       "      <td>4</td>\n",
       "      <td>3</td>\n",
       "      <td>1</td>\n",
       "      <td>...</td>\n",
       "      <td>2</td>\n",
       "      <td>28</td>\n",
       "      <td>0</td>\n",
       "      <td>1</td>\n",
       "      <td>2</td>\n",
       "      <td>4</td>\n",
       "      <td>1</td>\n",
       "      <td>0</td>\n",
       "      <td>1</td>\n",
       "      <td>2</td>\n",
       "    </tr>\n",
       "  </tbody>\n",
       "</table>\n",
       "<p>10 rows × 21 columns</p>\n",
       "</div>"
      ],
      "text/plain": [
       "   checking_acc_numeric  time_credit_acc  credit_history_numeric  \\\n",
       "0                     1                6                       3   \n",
       "1                     2               48                       4   \n",
       "2                     4               12                       3   \n",
       "3                     1               42                       4   \n",
       "4                     1               24                       2   \n",
       "5                     4               36                       4   \n",
       "6                     4               24                       4   \n",
       "7                     2               36                       4   \n",
       "8                     4               12                       4   \n",
       "9                     2               30                       3   \n",
       "\n",
       "   purpose_numeric  amount  savings_acc_numeric  p_employment_time_numeric  \\\n",
       "0                1    1169                    0                          5   \n",
       "1                1    5951                    1                          3   \n",
       "2                6    2096                    1                          4   \n",
       "3                3    7882                    1                          4   \n",
       "4                2    4870                    1                          3   \n",
       "5                6    9055                    0                          3   \n",
       "6                3    2835                    3                          5   \n",
       "7                4    6948                    1                          3   \n",
       "8                1    3059                    4                          4   \n",
       "9                2    5234                    1                          1   \n",
       "\n",
       "   installment_rate  marita_status_sex_numeric  other_debtors_numeric  \\\n",
       "0                 4                          1                      1   \n",
       "1                 2                          2                      1   \n",
       "2                 2                          1                      1   \n",
       "3                 2                          1                      2   \n",
       "4                 3                          1                      1   \n",
       "5                 2                          1                      1   \n",
       "6                 3                          1                      1   \n",
       "7                 2                          1                      1   \n",
       "8                 2                          4                      1   \n",
       "9                 4                          3                      1   \n",
       "\n",
       "    ...     property_numeric  age  other_installment_numeric  housing_numeric  \\\n",
       "0   ...                    4   67                          0                1   \n",
       "1   ...                    4   22                          0                1   \n",
       "2   ...                    4   49                          0                1   \n",
       "3   ...                    3   45                          0                0   \n",
       "4   ...                    0   53                          0                0   \n",
       "5   ...                    0   35                          0                0   \n",
       "6   ...                    3   53                          0                1   \n",
       "7   ...                    2   35                          0                2   \n",
       "8   ...                    4   61                          0                1   \n",
       "9   ...                    2   28                          0                1   \n",
       "\n",
       "   number_of_credits  job_numeric  dependants  has_phone_numeric  \\\n",
       "0                  2            3           1                  1   \n",
       "1                  1            3           1                  0   \n",
       "2                  1            2           2                  0   \n",
       "3                  1            3           2                  0   \n",
       "4                  2            3           2                  0   \n",
       "5                  1            2           2                  1   \n",
       "6                  1            3           1                  0   \n",
       "7                  1            4           1                  1   \n",
       "8                  1            2           1                  0   \n",
       "9                  2            4           1                  0   \n",
       "\n",
       "   foreign_worker_numeric  is_good  \n",
       "0                       1        1  \n",
       "1                       1        2  \n",
       "2                       1        1  \n",
       "3                       1        1  \n",
       "4                       1        2  \n",
       "5                       1        1  \n",
       "6                       1        1  \n",
       "7                       1        1  \n",
       "8                       1        1  \n",
       "9                       1        2  \n",
       "\n",
       "[10 rows x 21 columns]"
      ]
     },
     "execution_count": 4,
     "metadata": {},
     "output_type": "execute_result"
    }
   ],
   "source": [
    "from pandas import read_csv as read_csv, DataFrame\n",
    "df = read_csv('data/german.data.all-numeric.csv',header=0)\n",
    "df.head(n=10)"
   ]
  },
  {
   "cell_type": "code",
   "execution_count": 5,
   "metadata": {
    "collapsed": false
   },
   "outputs": [
    {
     "data": {
      "text/html": [
       "<div>\n",
       "<table border=\"1\" class=\"dataframe\">\n",
       "  <thead>\n",
       "    <tr style=\"text-align: right;\">\n",
       "      <th></th>\n",
       "      <th>checking_acc_numeric</th>\n",
       "      <th>time_credit_acc</th>\n",
       "      <th>credit_history_numeric</th>\n",
       "      <th>purpose_numeric</th>\n",
       "      <th>amount</th>\n",
       "      <th>savings_acc_numeric</th>\n",
       "      <th>p_employment_time_numeric</th>\n",
       "      <th>installment_rate</th>\n",
       "      <th>marita_status_sex_numeric</th>\n",
       "      <th>other_debtors_numeric</th>\n",
       "      <th>...</th>\n",
       "      <th>property_numeric</th>\n",
       "      <th>age</th>\n",
       "      <th>other_installment_numeric</th>\n",
       "      <th>housing_numeric</th>\n",
       "      <th>number_of_credits</th>\n",
       "      <th>job_numeric</th>\n",
       "      <th>dependants</th>\n",
       "      <th>has_phone_numeric</th>\n",
       "      <th>foreign_worker_numeric</th>\n",
       "      <th>is_good</th>\n",
       "    </tr>\n",
       "  </thead>\n",
       "  <tbody>\n",
       "    <tr>\n",
       "      <th>count</th>\n",
       "      <td>1000.000000</td>\n",
       "      <td>1000.000000</td>\n",
       "      <td>1000.000000</td>\n",
       "      <td>1000.000000</td>\n",
       "      <td>1000.000000</td>\n",
       "      <td>1000.000000</td>\n",
       "      <td>1000.000000</td>\n",
       "      <td>1000.000000</td>\n",
       "      <td>1000.000000</td>\n",
       "      <td>1000.000000</td>\n",
       "      <td>...</td>\n",
       "      <td>1000.000000</td>\n",
       "      <td>1000.000000</td>\n",
       "      <td>1000.000000</td>\n",
       "      <td>1000.000000</td>\n",
       "      <td>1000.000000</td>\n",
       "      <td>1000.000000</td>\n",
       "      <td>1000.000000</td>\n",
       "      <td>1000.000000</td>\n",
       "      <td>1000.000000</td>\n",
       "      <td>1000.000000</td>\n",
       "    </tr>\n",
       "    <tr>\n",
       "      <th>mean</th>\n",
       "      <td>2.577000</td>\n",
       "      <td>20.903000</td>\n",
       "      <td>3.224000</td>\n",
       "      <td>2.975000</td>\n",
       "      <td>3271.258000</td>\n",
       "      <td>1.190000</td>\n",
       "      <td>3.384000</td>\n",
       "      <td>2.973000</td>\n",
       "      <td>1.644000</td>\n",
       "      <td>1.134000</td>\n",
       "      <td>...</td>\n",
       "      <td>2.488000</td>\n",
       "      <td>35.546000</td>\n",
       "      <td>0.325000</td>\n",
       "      <td>1.071000</td>\n",
       "      <td>1.407000</td>\n",
       "      <td>2.904000</td>\n",
       "      <td>1.155000</td>\n",
       "      <td>0.404000</td>\n",
       "      <td>0.963000</td>\n",
       "      <td>1.300000</td>\n",
       "    </tr>\n",
       "    <tr>\n",
       "      <th>std</th>\n",
       "      <td>1.257638</td>\n",
       "      <td>12.058814</td>\n",
       "      <td>1.060636</td>\n",
       "      <td>2.081035</td>\n",
       "      <td>2822.736876</td>\n",
       "      <td>0.966869</td>\n",
       "      <td>1.208306</td>\n",
       "      <td>1.118715</td>\n",
       "      <td>0.844972</td>\n",
       "      <td>0.445244</td>\n",
       "      <td>...</td>\n",
       "      <td>1.318937</td>\n",
       "      <td>11.375469</td>\n",
       "      <td>0.705601</td>\n",
       "      <td>0.531264</td>\n",
       "      <td>0.577654</td>\n",
       "      <td>0.653614</td>\n",
       "      <td>0.362086</td>\n",
       "      <td>0.490943</td>\n",
       "      <td>0.188856</td>\n",
       "      <td>0.458487</td>\n",
       "    </tr>\n",
       "    <tr>\n",
       "      <th>min</th>\n",
       "      <td>1.000000</td>\n",
       "      <td>4.000000</td>\n",
       "      <td>0.000000</td>\n",
       "      <td>1.000000</td>\n",
       "      <td>250.000000</td>\n",
       "      <td>0.000000</td>\n",
       "      <td>1.000000</td>\n",
       "      <td>1.000000</td>\n",
       "      <td>1.000000</td>\n",
       "      <td>1.000000</td>\n",
       "      <td>...</td>\n",
       "      <td>0.000000</td>\n",
       "      <td>19.000000</td>\n",
       "      <td>0.000000</td>\n",
       "      <td>0.000000</td>\n",
       "      <td>1.000000</td>\n",
       "      <td>1.000000</td>\n",
       "      <td>1.000000</td>\n",
       "      <td>0.000000</td>\n",
       "      <td>0.000000</td>\n",
       "      <td>1.000000</td>\n",
       "    </tr>\n",
       "    <tr>\n",
       "      <th>25%</th>\n",
       "      <td>1.000000</td>\n",
       "      <td>12.000000</td>\n",
       "      <td>3.000000</td>\n",
       "      <td>1.000000</td>\n",
       "      <td>1365.500000</td>\n",
       "      <td>1.000000</td>\n",
       "      <td>3.000000</td>\n",
       "      <td>2.000000</td>\n",
       "      <td>1.000000</td>\n",
       "      <td>1.000000</td>\n",
       "      <td>...</td>\n",
       "      <td>2.000000</td>\n",
       "      <td>27.000000</td>\n",
       "      <td>0.000000</td>\n",
       "      <td>1.000000</td>\n",
       "      <td>1.000000</td>\n",
       "      <td>3.000000</td>\n",
       "      <td>1.000000</td>\n",
       "      <td>0.000000</td>\n",
       "      <td>1.000000</td>\n",
       "      <td>1.000000</td>\n",
       "    </tr>\n",
       "    <tr>\n",
       "      <th>50%</th>\n",
       "      <td>2.000000</td>\n",
       "      <td>18.000000</td>\n",
       "      <td>4.000000</td>\n",
       "      <td>2.000000</td>\n",
       "      <td>2319.500000</td>\n",
       "      <td>1.000000</td>\n",
       "      <td>3.000000</td>\n",
       "      <td>3.000000</td>\n",
       "      <td>1.000000</td>\n",
       "      <td>1.000000</td>\n",
       "      <td>...</td>\n",
       "      <td>3.000000</td>\n",
       "      <td>33.000000</td>\n",
       "      <td>0.000000</td>\n",
       "      <td>1.000000</td>\n",
       "      <td>1.000000</td>\n",
       "      <td>3.000000</td>\n",
       "      <td>1.000000</td>\n",
       "      <td>0.000000</td>\n",
       "      <td>1.000000</td>\n",
       "      <td>1.000000</td>\n",
       "    </tr>\n",
       "    <tr>\n",
       "      <th>75%</th>\n",
       "      <td>4.000000</td>\n",
       "      <td>24.000000</td>\n",
       "      <td>4.000000</td>\n",
       "      <td>4.000000</td>\n",
       "      <td>3972.250000</td>\n",
       "      <td>1.000000</td>\n",
       "      <td>5.000000</td>\n",
       "      <td>4.000000</td>\n",
       "      <td>2.000000</td>\n",
       "      <td>1.000000</td>\n",
       "      <td>...</td>\n",
       "      <td>4.000000</td>\n",
       "      <td>42.000000</td>\n",
       "      <td>0.000000</td>\n",
       "      <td>1.000000</td>\n",
       "      <td>2.000000</td>\n",
       "      <td>3.000000</td>\n",
       "      <td>1.000000</td>\n",
       "      <td>1.000000</td>\n",
       "      <td>1.000000</td>\n",
       "      <td>2.000000</td>\n",
       "    </tr>\n",
       "    <tr>\n",
       "      <th>max</th>\n",
       "      <td>4.000000</td>\n",
       "      <td>72.000000</td>\n",
       "      <td>4.000000</td>\n",
       "      <td>11.000000</td>\n",
       "      <td>18424.000000</td>\n",
       "      <td>4.000000</td>\n",
       "      <td>5.000000</td>\n",
       "      <td>4.000000</td>\n",
       "      <td>4.000000</td>\n",
       "      <td>3.000000</td>\n",
       "      <td>...</td>\n",
       "      <td>4.000000</td>\n",
       "      <td>75.000000</td>\n",
       "      <td>2.000000</td>\n",
       "      <td>2.000000</td>\n",
       "      <td>4.000000</td>\n",
       "      <td>4.000000</td>\n",
       "      <td>2.000000</td>\n",
       "      <td>1.000000</td>\n",
       "      <td>1.000000</td>\n",
       "      <td>2.000000</td>\n",
       "    </tr>\n",
       "  </tbody>\n",
       "</table>\n",
       "<p>8 rows × 21 columns</p>\n",
       "</div>"
      ],
      "text/plain": [
       "       checking_acc_numeric  time_credit_acc  credit_history_numeric  \\\n",
       "count           1000.000000      1000.000000             1000.000000   \n",
       "mean               2.577000        20.903000                3.224000   \n",
       "std                1.257638        12.058814                1.060636   \n",
       "min                1.000000         4.000000                0.000000   \n",
       "25%                1.000000        12.000000                3.000000   \n",
       "50%                2.000000        18.000000                4.000000   \n",
       "75%                4.000000        24.000000                4.000000   \n",
       "max                4.000000        72.000000                4.000000   \n",
       "\n",
       "       purpose_numeric        amount  savings_acc_numeric  \\\n",
       "count      1000.000000   1000.000000          1000.000000   \n",
       "mean          2.975000   3271.258000             1.190000   \n",
       "std           2.081035   2822.736876             0.966869   \n",
       "min           1.000000    250.000000             0.000000   \n",
       "25%           1.000000   1365.500000             1.000000   \n",
       "50%           2.000000   2319.500000             1.000000   \n",
       "75%           4.000000   3972.250000             1.000000   \n",
       "max          11.000000  18424.000000             4.000000   \n",
       "\n",
       "       p_employment_time_numeric  installment_rate  marita_status_sex_numeric  \\\n",
       "count                1000.000000       1000.000000                1000.000000   \n",
       "mean                    3.384000          2.973000                   1.644000   \n",
       "std                     1.208306          1.118715                   0.844972   \n",
       "min                     1.000000          1.000000                   1.000000   \n",
       "25%                     3.000000          2.000000                   1.000000   \n",
       "50%                     3.000000          3.000000                   1.000000   \n",
       "75%                     5.000000          4.000000                   2.000000   \n",
       "max                     5.000000          4.000000                   4.000000   \n",
       "\n",
       "       other_debtors_numeric     ...       property_numeric          age  \\\n",
       "count            1000.000000     ...            1000.000000  1000.000000   \n",
       "mean                1.134000     ...               2.488000    35.546000   \n",
       "std                 0.445244     ...               1.318937    11.375469   \n",
       "min                 1.000000     ...               0.000000    19.000000   \n",
       "25%                 1.000000     ...               2.000000    27.000000   \n",
       "50%                 1.000000     ...               3.000000    33.000000   \n",
       "75%                 1.000000     ...               4.000000    42.000000   \n",
       "max                 3.000000     ...               4.000000    75.000000   \n",
       "\n",
       "       other_installment_numeric  housing_numeric  number_of_credits  \\\n",
       "count                1000.000000      1000.000000        1000.000000   \n",
       "mean                    0.325000         1.071000           1.407000   \n",
       "std                     0.705601         0.531264           0.577654   \n",
       "min                     0.000000         0.000000           1.000000   \n",
       "25%                     0.000000         1.000000           1.000000   \n",
       "50%                     0.000000         1.000000           1.000000   \n",
       "75%                     0.000000         1.000000           2.000000   \n",
       "max                     2.000000         2.000000           4.000000   \n",
       "\n",
       "       job_numeric   dependants  has_phone_numeric  foreign_worker_numeric  \\\n",
       "count  1000.000000  1000.000000        1000.000000             1000.000000   \n",
       "mean      2.904000     1.155000           0.404000                0.963000   \n",
       "std       0.653614     0.362086           0.490943                0.188856   \n",
       "min       1.000000     1.000000           0.000000                0.000000   \n",
       "25%       3.000000     1.000000           0.000000                1.000000   \n",
       "50%       3.000000     1.000000           0.000000                1.000000   \n",
       "75%       3.000000     1.000000           1.000000                1.000000   \n",
       "max       4.000000     2.000000           1.000000                1.000000   \n",
       "\n",
       "           is_good  \n",
       "count  1000.000000  \n",
       "mean      1.300000  \n",
       "std       0.458487  \n",
       "min       1.000000  \n",
       "25%       1.000000  \n",
       "50%       1.000000  \n",
       "75%       2.000000  \n",
       "max       2.000000  \n",
       "\n",
       "[8 rows x 21 columns]"
      ]
     },
     "execution_count": 5,
     "metadata": {},
     "output_type": "execute_result"
    }
   ],
   "source": [
    "df.describe()"
   ]
  },
  {
   "cell_type": "markdown",
   "metadata": {},
   "source": [
    "En este caso se tienen 20 columnas de características o discriminadores (_features_), y una columna de salida o clasificación. Tomemos sólo 4 de las 20 características para ilustrar el proceso de creación de un _score card_. En este caso tomaremos:  \n",
    "* `time_credit_acc`\n",
    "* `amount`\n",
    "* `p_employment_time_numeric`\n",
    "* `age`  \n",
    "También debemos dividir nuestra muestra en dos secciones, una que no servirá para ***entrenar*** nuestro modelo; y otra que nos servira para ***evaluar*** su desempeño. En este caso tomamos aleatoriamente el 70% de la mustra original para entrenamiento, y dejamos el 30% restante para evaluación."
   ]
  },
  {
   "cell_type": "code",
   "execution_count": 6,
   "metadata": {
    "collapsed": false
   },
   "outputs": [
    {
     "data": {
      "text/plain": [
       "<matplotlib.text.Text at 0x1149eb6d8>"
      ]
     },
     "execution_count": 6,
     "metadata": {},
     "output_type": "execute_result"
    },
    {
     "data": {
      "image/png": "[encoded data removed]",
      "text/plain": [
       "<matplotlib.figure.Figure at 0x114930c50>"
      ]
     },
     "metadata": {},
     "output_type": "display_data"
    }
   ],
   "source": [
    "%matplotlib inline\n",
    "from matplotlib import pyplot as plt\n",
    "plt.figure();\n",
    "tca_range = range(0,100,20)\n",
    "df_trainning = df.sample(frac=0.7, replace=False, random_state=1234)\n",
    "df_testing = df.drop(df_trainning.index)\n",
    "df_good = df_trainning[df_trainning['is_good']==1] \n",
    "df_bad = df_trainning[df_trainning['is_good']!=1]\n",
    "df_good['time_credit_acc'].plot.hist(bins=tca_range,color='b',alpha=0.5,label='good')\n",
    "df_bad['time_credit_acc'].plot.hist(bins=tca_range,color='r',alpha=0.5,label='bad')\n",
    "plt.legend(loc='upper right')\n",
    "plt.xlabel('Antigüedad de la cuenta en meses')"
   ]
  },
  {
   "cell_type": "code",
   "execution_count": 7,
   "metadata": {
    "collapsed": false
   },
   "outputs": [
    {
     "data": {
      "text/plain": [
       "<matplotlib.text.Text at 0x117401c50>"
      ]
     },
     "execution_count": 7,
     "metadata": {},
     "output_type": "execute_result"
    },
    {
     "data": {
      "image/png": "[encoded data removed]",
      "text/plain": [
       "<matplotlib.figure.Figure at 0x113c32320>"
      ]
     },
     "metadata": {},
     "output_type": "display_data"
    }
   ],
   "source": [
    "amount_range = range(0,25000,5000)\n",
    "df_good['amount'].plot.hist(bins=amount_range,color='b',alpha=0.5,label='good')\n",
    "df_bad['amount'].plot.hist(bins=amount_range,color='r',alpha=0.5,label='bad')\n",
    "plt.legend(loc='upper right')\n",
    "plt.xlabel('Monto del prestamo en unidades monetarias')"
   ]
  },
  {
   "cell_type": "code",
   "execution_count": 8,
   "metadata": {
    "collapsed": false
   },
   "outputs": [
    {
     "data": {
      "text/plain": [
       "<matplotlib.text.Text at 0x11741ec50>"
      ]
     },
     "execution_count": 8,
     "metadata": {},
     "output_type": "execute_result"
    },
    {
     "data": {
      "image/png": "[encoded data removed]",
      "text/plain": [
       "<matplotlib.figure.Figure at 0x1173c19b0>"
      ]
     },
     "metadata": {},
     "output_type": "display_data"
    }
   ],
   "source": [
    "pet_range = range(1,7,1)\n",
    "df_good['p_employment_time_numeric'].plot.hist(bins=pet_range,color='b',alpha=0.5,label='good')\n",
    "df_bad['p_employment_time_numeric'].plot.hist(bins=pet_range,color='r',alpha=0.5,label='bad')\n",
    "plt.legend(loc='upper right')\n",
    "plt.xlabel('Clasificación de antigüedad en el trabajo')"
   ]
  },
  {
   "cell_type": "code",
   "execution_count": 9,
   "metadata": {
    "collapsed": false
   },
   "outputs": [
    {
     "data": {
      "text/plain": [
       "<matplotlib.text.Text at 0x1173b5780>"
      ]
     },
     "execution_count": 9,
     "metadata": {},
     "output_type": "execute_result"
    },
    {
     "data": {
      "image/png": "[encoded data removed]",
      "text/plain": [
       "<matplotlib.figure.Figure at 0x1175939e8>"
      ]
     },
     "metadata": {},
     "output_type": "display_data"
    }
   ],
   "source": [
    "age_range = range(18,88,16)\n",
    "df_good['age'].plot.hist(bins=age_range,color='b',alpha=0.5,label='good')\n",
    "df_bad['age'].plot.hist(bins=age_range,color='r',alpha=0.5,label='bad')\n",
    "plt.legend(loc='upper right')\n",
    "plt.xlabel('Edad en años')"
   ]
  },
  {
   "cell_type": "markdown",
   "metadata": {},
   "source": [
    "### Creando el _score card_\n",
    "\n",
    "Para crear un _score card_ debemos segmentar las variables de interés en unpos pocos grupos, **3** o **4**, por ejemplo, y a cada grupo asignarle una calificación ***intuitiva***, respetando que las calificaciones mayores significan menor riesgo (o mayor, sgún nos guste)."
   ]
  },
  {
   "cell_type": "markdown",
   "metadata": {},
   "source": [
    "| TCA  | Score |Amount| Score | PET  | Score | Age  | Score |\n",
    "|------|-------|------|-------|------|-------|------|-------|\n",
    "| 0-20 |   7   | 0-5K |   7   |   1  |    1  | 18-34|   3   |\n",
    "|20-40 |   3   | 5-10K|   1   |   2  |    1  | 34-50|   5   |\n",
    "|40-60 |   0   |10-15K|   0   |   3  |    6  | 50-66|   3   |\n",
    "|60-80 |   0   |15-20K|   0   |   4  |    8  | 66-83|   3   |\n",
    "| ---- | ----- | ---- | ----- |   5  |    8  | ---- | ----- |"
   ]
  },
  {
   "cell_type": "markdown",
   "metadata": {},
   "source": [
    "Por supuesto, queremos un programa que reciba la información de uno o varios clientes y nos devuelva la calificación que debería recibir según nuestro **primer modelo de clasificación**. Veamos su desempeño.  \n",
    "En el directorio de esta semana, se encuentra el archivo `score_card.py`, es una implementación de la tabla que describe nuestro _score card_. Ahora debemos evaluar su desempeño. Para hacerlo, usamos la muestra de prueba que seleccionamos anteriormente.\n",
    "Para ejecutar nuestro programa, y evaluar un cliente, simplemente ejecutamos:"
   ]
  },
  {
   "cell_type": "code",
   "execution_count": 10,
   "metadata": {
    "collapsed": false
   },
   "outputs": [
    {
     "name": "stdout",
     "output_type": "stream",
     "text": [
      "27\r\n"
     ]
    }
   ],
   "source": [
    "!./score_card.py --tca=1 --amount=2000 --pet=4 --age=36"
   ]
  },
  {
   "cell_type": "markdown",
   "metadata": {},
   "source": [
    "Ahora, debemos usar nuestro script para evaluar a cada uno de nuestros clientes en la muestra de prueba."
   ]
  },
  {
   "cell_type": "code",
   "execution_count": 11,
   "metadata": {
    "collapsed": false,
    "scrolled": true
   },
   "outputs": [
    {
     "data": {
      "text/html": [
       "<div>\n",
       "<table border=\"1\" class=\"dataframe\">\n",
       "  <thead>\n",
       "    <tr style=\"text-align: right;\">\n",
       "      <th></th>\n",
       "      <th>checking_acc_numeric</th>\n",
       "      <th>time_credit_acc</th>\n",
       "      <th>credit_history_numeric</th>\n",
       "      <th>purpose_numeric</th>\n",
       "      <th>amount</th>\n",
       "      <th>savings_acc_numeric</th>\n",
       "      <th>p_employment_time_numeric</th>\n",
       "      <th>installment_rate</th>\n",
       "      <th>marita_status_sex_numeric</th>\n",
       "      <th>other_debtors_numeric</th>\n",
       "      <th>...</th>\n",
       "      <th>property_numeric</th>\n",
       "      <th>age</th>\n",
       "      <th>other_installment_numeric</th>\n",
       "      <th>housing_numeric</th>\n",
       "      <th>number_of_credits</th>\n",
       "      <th>job_numeric</th>\n",
       "      <th>dependants</th>\n",
       "      <th>has_phone_numeric</th>\n",
       "      <th>foreign_worker_numeric</th>\n",
       "      <th>is_good</th>\n",
       "    </tr>\n",
       "  </thead>\n",
       "  <tbody>\n",
       "    <tr>\n",
       "      <th>count</th>\n",
       "      <td>300.000000</td>\n",
       "      <td>300.000000</td>\n",
       "      <td>300.000000</td>\n",
       "      <td>300.000000</td>\n",
       "      <td>300.000000</td>\n",
       "      <td>300.000000</td>\n",
       "      <td>300.000000</td>\n",
       "      <td>300.000000</td>\n",
       "      <td>300.000000</td>\n",
       "      <td>300.000000</td>\n",
       "      <td>...</td>\n",
       "      <td>300.000000</td>\n",
       "      <td>300.000000</td>\n",
       "      <td>300.000000</td>\n",
       "      <td>300.000000</td>\n",
       "      <td>300.000000</td>\n",
       "      <td>300.000000</td>\n",
       "      <td>300.000000</td>\n",
       "      <td>300.000000</td>\n",
       "      <td>300.000000</td>\n",
       "      <td>300.000000</td>\n",
       "    </tr>\n",
       "    <tr>\n",
       "      <th>mean</th>\n",
       "      <td>2.573333</td>\n",
       "      <td>20.060000</td>\n",
       "      <td>3.303333</td>\n",
       "      <td>3.013333</td>\n",
       "      <td>3207.386667</td>\n",
       "      <td>1.200000</td>\n",
       "      <td>3.403333</td>\n",
       "      <td>3.006667</td>\n",
       "      <td>1.636667</td>\n",
       "      <td>1.123333</td>\n",
       "      <td>...</td>\n",
       "      <td>2.480000</td>\n",
       "      <td>35.513333</td>\n",
       "      <td>0.280000</td>\n",
       "      <td>1.063333</td>\n",
       "      <td>1.390000</td>\n",
       "      <td>2.893333</td>\n",
       "      <td>1.163333</td>\n",
       "      <td>0.416667</td>\n",
       "      <td>0.963333</td>\n",
       "      <td>1.263333</td>\n",
       "    </tr>\n",
       "    <tr>\n",
       "      <th>std</th>\n",
       "      <td>1.271486</td>\n",
       "      <td>11.509908</td>\n",
       "      <td>0.980404</td>\n",
       "      <td>2.127968</td>\n",
       "      <td>2829.494911</td>\n",
       "      <td>0.946742</td>\n",
       "      <td>1.191099</td>\n",
       "      <td>1.118388</td>\n",
       "      <td>0.844808</td>\n",
       "      <td>0.426688</td>\n",
       "      <td>...</td>\n",
       "      <td>1.276073</td>\n",
       "      <td>11.121245</td>\n",
       "      <td>0.660597</td>\n",
       "      <td>0.523037</td>\n",
       "      <td>0.570659</td>\n",
       "      <td>0.640304</td>\n",
       "      <td>0.370287</td>\n",
       "      <td>0.493830</td>\n",
       "      <td>0.188256</td>\n",
       "      <td>0.441178</td>\n",
       "    </tr>\n",
       "    <tr>\n",
       "      <th>min</th>\n",
       "      <td>1.000000</td>\n",
       "      <td>4.000000</td>\n",
       "      <td>0.000000</td>\n",
       "      <td>1.000000</td>\n",
       "      <td>362.000000</td>\n",
       "      <td>0.000000</td>\n",
       "      <td>1.000000</td>\n",
       "      <td>1.000000</td>\n",
       "      <td>1.000000</td>\n",
       "      <td>1.000000</td>\n",
       "      <td>...</td>\n",
       "      <td>0.000000</td>\n",
       "      <td>19.000000</td>\n",
       "      <td>0.000000</td>\n",
       "      <td>0.000000</td>\n",
       "      <td>1.000000</td>\n",
       "      <td>1.000000</td>\n",
       "      <td>1.000000</td>\n",
       "      <td>0.000000</td>\n",
       "      <td>0.000000</td>\n",
       "      <td>1.000000</td>\n",
       "    </tr>\n",
       "    <tr>\n",
       "      <th>25%</th>\n",
       "      <td>1.000000</td>\n",
       "      <td>12.000000</td>\n",
       "      <td>3.000000</td>\n",
       "      <td>1.000000</td>\n",
       "      <td>1391.250000</td>\n",
       "      <td>1.000000</td>\n",
       "      <td>3.000000</td>\n",
       "      <td>2.000000</td>\n",
       "      <td>1.000000</td>\n",
       "      <td>1.000000</td>\n",
       "      <td>...</td>\n",
       "      <td>2.000000</td>\n",
       "      <td>27.000000</td>\n",
       "      <td>0.000000</td>\n",
       "      <td>1.000000</td>\n",
       "      <td>1.000000</td>\n",
       "      <td>3.000000</td>\n",
       "      <td>1.000000</td>\n",
       "      <td>0.000000</td>\n",
       "      <td>1.000000</td>\n",
       "      <td>1.000000</td>\n",
       "    </tr>\n",
       "    <tr>\n",
       "      <th>50%</th>\n",
       "      <td>2.000000</td>\n",
       "      <td>18.000000</td>\n",
       "      <td>4.000000</td>\n",
       "      <td>2.000000</td>\n",
       "      <td>2160.000000</td>\n",
       "      <td>1.000000</td>\n",
       "      <td>3.000000</td>\n",
       "      <td>3.000000</td>\n",
       "      <td>1.000000</td>\n",
       "      <td>1.000000</td>\n",
       "      <td>...</td>\n",
       "      <td>2.000000</td>\n",
       "      <td>33.000000</td>\n",
       "      <td>0.000000</td>\n",
       "      <td>1.000000</td>\n",
       "      <td>1.000000</td>\n",
       "      <td>3.000000</td>\n",
       "      <td>1.000000</td>\n",
       "      <td>0.000000</td>\n",
       "      <td>1.000000</td>\n",
       "      <td>1.000000</td>\n",
       "    </tr>\n",
       "    <tr>\n",
       "      <th>75%</th>\n",
       "      <td>4.000000</td>\n",
       "      <td>24.000000</td>\n",
       "      <td>4.000000</td>\n",
       "      <td>4.000000</td>\n",
       "      <td>3891.250000</td>\n",
       "      <td>1.000000</td>\n",
       "      <td>5.000000</td>\n",
       "      <td>4.000000</td>\n",
       "      <td>2.000000</td>\n",
       "      <td>1.000000</td>\n",
       "      <td>...</td>\n",
       "      <td>4.000000</td>\n",
       "      <td>42.000000</td>\n",
       "      <td>0.000000</td>\n",
       "      <td>1.000000</td>\n",
       "      <td>2.000000</td>\n",
       "      <td>3.000000</td>\n",
       "      <td>1.000000</td>\n",
       "      <td>1.000000</td>\n",
       "      <td>1.000000</td>\n",
       "      <td>2.000000</td>\n",
       "    </tr>\n",
       "    <tr>\n",
       "      <th>max</th>\n",
       "      <td>4.000000</td>\n",
       "      <td>60.000000</td>\n",
       "      <td>4.000000</td>\n",
       "      <td>11.000000</td>\n",
       "      <td>15857.000000</td>\n",
       "      <td>4.000000</td>\n",
       "      <td>5.000000</td>\n",
       "      <td>4.000000</td>\n",
       "      <td>4.000000</td>\n",
       "      <td>3.000000</td>\n",
       "      <td>...</td>\n",
       "      <td>4.000000</td>\n",
       "      <td>74.000000</td>\n",
       "      <td>2.000000</td>\n",
       "      <td>2.000000</td>\n",
       "      <td>4.000000</td>\n",
       "      <td>4.000000</td>\n",
       "      <td>2.000000</td>\n",
       "      <td>1.000000</td>\n",
       "      <td>1.000000</td>\n",
       "      <td>2.000000</td>\n",
       "    </tr>\n",
       "  </tbody>\n",
       "</table>\n",
       "<p>8 rows × 21 columns</p>\n",
       "</div>"
      ],
      "text/plain": [
       "       checking_acc_numeric  time_credit_acc  credit_history_numeric  \\\n",
       "count            300.000000       300.000000              300.000000   \n",
       "mean               2.573333        20.060000                3.303333   \n",
       "std                1.271486        11.509908                0.980404   \n",
       "min                1.000000         4.000000                0.000000   \n",
       "25%                1.000000        12.000000                3.000000   \n",
       "50%                2.000000        18.000000                4.000000   \n",
       "75%                4.000000        24.000000                4.000000   \n",
       "max                4.000000        60.000000                4.000000   \n",
       "\n",
       "       purpose_numeric        amount  savings_acc_numeric  \\\n",
       "count       300.000000    300.000000           300.000000   \n",
       "mean          3.013333   3207.386667             1.200000   \n",
       "std           2.127968   2829.494911             0.946742   \n",
       "min           1.000000    362.000000             0.000000   \n",
       "25%           1.000000   1391.250000             1.000000   \n",
       "50%           2.000000   2160.000000             1.000000   \n",
       "75%           4.000000   3891.250000             1.000000   \n",
       "max          11.000000  15857.000000             4.000000   \n",
       "\n",
       "       p_employment_time_numeric  installment_rate  marita_status_sex_numeric  \\\n",
       "count                 300.000000        300.000000                 300.000000   \n",
       "mean                    3.403333          3.006667                   1.636667   \n",
       "std                     1.191099          1.118388                   0.844808   \n",
       "min                     1.000000          1.000000                   1.000000   \n",
       "25%                     3.000000          2.000000                   1.000000   \n",
       "50%                     3.000000          3.000000                   1.000000   \n",
       "75%                     5.000000          4.000000                   2.000000   \n",
       "max                     5.000000          4.000000                   4.000000   \n",
       "\n",
       "       other_debtors_numeric     ...      property_numeric         age  \\\n",
       "count             300.000000     ...            300.000000  300.000000   \n",
       "mean                1.123333     ...              2.480000   35.513333   \n",
       "std                 0.426688     ...              1.276073   11.121245   \n",
       "min                 1.000000     ...              0.000000   19.000000   \n",
       "25%                 1.000000     ...              2.000000   27.000000   \n",
       "50%                 1.000000     ...              2.000000   33.000000   \n",
       "75%                 1.000000     ...              4.000000   42.000000   \n",
       "max                 3.000000     ...              4.000000   74.000000   \n",
       "\n",
       "       other_installment_numeric  housing_numeric  number_of_credits  \\\n",
       "count                 300.000000       300.000000         300.000000   \n",
       "mean                    0.280000         1.063333           1.390000   \n",
       "std                     0.660597         0.523037           0.570659   \n",
       "min                     0.000000         0.000000           1.000000   \n",
       "25%                     0.000000         1.000000           1.000000   \n",
       "50%                     0.000000         1.000000           1.000000   \n",
       "75%                     0.000000         1.000000           2.000000   \n",
       "max                     2.000000         2.000000           4.000000   \n",
       "\n",
       "       job_numeric  dependants  has_phone_numeric  foreign_worker_numeric  \\\n",
       "count   300.000000  300.000000         300.000000              300.000000   \n",
       "mean      2.893333    1.163333           0.416667                0.963333   \n",
       "std       0.640304    0.370287           0.493830                0.188256   \n",
       "min       1.000000    1.000000           0.000000                0.000000   \n",
       "25%       3.000000    1.000000           0.000000                1.000000   \n",
       "50%       3.000000    1.000000           0.000000                1.000000   \n",
       "75%       3.000000    1.000000           1.000000                1.000000   \n",
       "max       4.000000    2.000000           1.000000                1.000000   \n",
       "\n",
       "          is_good  \n",
       "count  300.000000  \n",
       "mean     1.263333  \n",
       "std      0.441178  \n",
       "min      1.000000  \n",
       "25%      1.000000  \n",
       "50%      1.000000  \n",
       "75%      2.000000  \n",
       "max      2.000000  \n",
       "\n",
       "[8 rows x 21 columns]"
      ]
     },
     "execution_count": 11,
     "metadata": {},
     "output_type": "execute_result"
    }
   ],
   "source": [
    "df_testing.describe()"
   ]
  },
  {
   "cell_type": "code",
   "execution_count": 12,
   "metadata": {
    "collapsed": false
   },
   "outputs": [
    {
     "data": {
      "text/plain": [
       "<matplotlib.text.Text at 0x117710940>"
      ]
     },
     "execution_count": 12,
     "metadata": {},
     "output_type": "execute_result"
    },
    {
     "data": {
      "image/png": "[encoded data removed]",
      "text/plain": [
       "<matplotlib.figure.Figure at 0x1149db160>"
      ]
     },
     "metadata": {},
     "output_type": "display_data"
    }
   ],
   "source": [
    "from score_card import score_card\n",
    "scores = []\n",
    "for row in df_testing.iterrows():\n",
    "    row = row[1]\n",
    "    tca = row['time_credit_acc']\n",
    "    amount = row['amount']\n",
    "    pet = row['p_employment_time_numeric']\n",
    "    age = row['age']\n",
    "    scores.append(score_card(tca=tca, amount=amount, pet=pet, age=age))\n",
    "df_testing['score_card'] = scores   \n",
    "score_card_range = range(0,30,3)\n",
    "df_good = df_testing[df_testing['is_good']==1] \n",
    "df_bad = df_testing[df_testing['is_good']!=1]\n",
    "htest_good = df_good['score_card'].plot.hist(bins=score_card_range,color='b',alpha=0.5,label='good')\n",
    "htest_bad = df_bad['score_card'].plot.hist(bins=score_card_range,color='r',alpha=0.5,label='bad')\n",
    "plt.legend(loc='upper left')\n",
    "plt.xlabel('Valor del Score Card')"
   ]
  },
  {
   "cell_type": "markdown",
   "metadata": {},
   "source": [
    "Cualitativamente se puede ver que los valores grandes de nuestro score, seleccionan a los clientes de menor riesgo. Sin embargo, necesitamos un método cuantitativo para seleccionar el punto óptimo en el cual debemos **cortar** la muestra de clientes que quisiéramos aceptar. Por ejemplo, quisiéramos optimizar con respecto a dos criterios:  \n",
    "* Queremos que nuestra muestra tenga el menor riesgo posible.\n",
    "* Queremos que sea lo más numerosa posible.  \n",
    "Empecemos por calcular la ***probabilidad  de impago por bin***, y la ***probabilidad de que un cliente arbitrario caiga dentro de un bin***."
   ]
  },
  {
   "cell_type": "markdown",
   "metadata": {},
   "source": [
    "#### Probabilidad de impago por bin"
   ]
  },
  {
   "cell_type": "code",
   "execution_count": 13,
   "metadata": {
    "collapsed": false
   },
   "outputs": [
    {
     "data": {
      "text/plain": [
       "(18, 21]    20\n",
       "(15, 18]    17\n",
       "(24, 27]    10\n",
       "(21, 24]    10\n",
       "(9, 12]      9\n",
       "(12, 15]     7\n",
       "(6, 9]       4\n",
       "(3, 6]       2\n",
       "(0, 3]       0\n",
       "dtype: int64"
      ]
     },
     "execution_count": 13,
     "metadata": {},
     "output_type": "execute_result"
    }
   ],
   "source": [
    "from pandas import cut\n",
    "htest_good = cut(df_good['score_card'], bins=score_card_range)\n",
    "htest_bad = cut(df_bad['score_card'], bins=score_card_range)\n",
    "htest_bad.value_counts()"
   ]
  },
  {
   "cell_type": "code",
   "execution_count": 14,
   "metadata": {
    "collapsed": false
   },
   "outputs": [
    {
     "data": {
      "text/plain": [
       "(24, 27]    60\n",
       "(18, 21]    51\n",
       "(21, 24]    48\n",
       "(15, 18]    35\n",
       "(12, 15]    21\n",
       "(6, 9]       4\n",
       "(9, 12]      2\n",
       "(3, 6]       0\n",
       "(0, 3]       0\n",
       "dtype: int64"
      ]
     },
     "execution_count": 14,
     "metadata": {},
     "output_type": "execute_result"
    }
   ],
   "source": [
    "htest_good.value_counts()"
   ]
  },
  {
   "cell_type": "code",
   "execution_count": 15,
   "metadata": {
    "collapsed": false
   },
   "outputs": [],
   "source": [
    "purity_by_bin = []\n",
    "for g in range(0,len(htest_good.value_counts())):\n",
    "    sum_g_b = htest_good.value_counts()[g] + htest_bad.value_counts()[g]\n",
    "    if sum_g_b !=0:\n",
    "        purity_by_bin.append(1.0*htest_good.value_counts()[g]/sum_g_b)\n",
    "    else:\n",
    "        purity_by_bin.append(1.0*htest_good.value_counts()[g])    "
   ]
  },
  {
   "cell_type": "code",
   "execution_count": 16,
   "metadata": {
    "collapsed": false
   },
   "outputs": [
    {
     "data": {
      "text/plain": [
       "<matplotlib.text.Text at 0x1178a2358>"
      ]
     },
     "execution_count": 16,
     "metadata": {},
     "output_type": "execute_result"
    },
    {
     "data": {
      "image/png": "[encoded data removed]",
      "text/plain": [
       "<matplotlib.figure.Figure at 0x117710160>"
      ]
     },
     "metadata": {},
     "output_type": "display_data"
    }
   ],
   "source": [
    "plt.plot(score_card_range[:(len(purity_by_bin))], purity_by_bin, 'b')\n",
    "plt.xlabel('Valor del Score Card')\n",
    "plt.ylabel('Pureza por bin (Fraccion de buenos en cada bin)')"
   ]
  },
  {
   "cell_type": "code",
   "execution_count": 17,
   "metadata": {
    "collapsed": false
   },
   "outputs": [],
   "source": [
    "efficiency_by_bin = []\n",
    "for g in range(0,len(htest_good.value_counts())):\n",
    "    sum_g_b = htest_good.value_counts()[g] + htest_bad.value_counts()[g]\n",
    "    efficiency_by_bin.append(1.0*sum_g_b/(htest_good.size+htest_bad.size))"
   ]
  },
  {
   "cell_type": "code",
   "execution_count": 18,
   "metadata": {
    "collapsed": false
   },
   "outputs": [
    {
     "data": {
      "text/plain": [
       "<matplotlib.text.Text at 0x1178c5240>"
      ]
     },
     "execution_count": 18,
     "metadata": {},
     "output_type": "execute_result"
    },
    {
     "data": {
      "image/png": "[encoded data removed]",
      "text/plain": [
       "<matplotlib.figure.Figure at 0x1178336a0>"
      ]
     },
     "metadata": {},
     "output_type": "display_data"
    }
   ],
   "source": [
    "plt.plot(score_card_range[:(len(efficiency_by_bin))], efficiency_by_bin, 'b')\n",
    "plt.xlabel('Valor del Score Card')\n",
    "plt.ylabel('Eficiencia por bin (Fraccion de seleccionados en cada bin, con respecto al total)')"
   ]
  },
  {
   "cell_type": "markdown",
   "metadata": {},
   "source": [
    "##### En este caso se ve relativamente claro, que los bins de menor riesgo son los que tienen un valor más alto del score card. Es decir se pueden disminuir costos disminuyendo el riesgo de impago. Sin embargo, también tiene un costo rechazar clientes buenos con un riesgo un poco mayor. Para saber en qué punto debemos hacer el corte mínimo de nuestro score, debemos determinar la función que debemos optimizar.\n",
    "\n",
    "En este caso, la función que debemos optimizar es la utilidad generada por los préstamos otorgados, tomando en cuenta todos los costos y todos los ingresos. Hagamos un ejemplo ***de juguete*** para ejemplificarlo.\n"
   ]
  },
  {
   "cell_type": "markdown",
   "metadata": {},
   "source": [
    "- Supongamos por ejemplo que gastamos **\\$500000** para conseguir **1200** prospectos de clientes.  \n",
    "- Que el tamaño del préstamo promedio es de **\\$6000 **\n",
    "- Que un cliente que paga su préstamo en su totalidad, paga en promedio 20% de intereses\n",
    "- Que si un cliente entra en default, ocasiona una pérdida promedio de **\\$3000**, es decir paga sólo la mitad de su deuda.\n",
    "- Que un cliente que sólo paga parcialmente su préstamo, paga en promedio 40% de intereses sobre el monto que sí paga.\n",
    "\n",
    "### La Pregunta es: ¿Cuál es el score mínimo que debemos escoger para maximizar la utilidad?\n",
    "\n",
    "El costo por bin del default es entonces:\n",
    "$$ DC_{bin} = N * E_{bin} * D_{bin} * L_{bin},$$  \n",
    "donde $L_{bin} = 3000$ es el pérdida esperada promedio en cada bin (en este caso constante),  $D_{bin}$ es el default esperado por bin, $E_{bin}$ es la eficiencia por bin (fraccción de clientes aceptados por bin), y $N=1000$ el número de prospectos esperados. \n",
    "\n",
    "El ingreso debido a los préstamos pagados totalmente será:\n",
    "$$ RT_{bin} = N * E_{bin} * ( 1 - D_{bin} ) * S_{bin} * ( IT_{bin}),$$\n",
    "mientras que el ingreso por los préstamos pagados parcialmente será:\n",
    "$$ RP_{bin} = N * E_{bin} *D_{bin} * (S_{bin} - L_{bin}) * ( IP_{bin} ), $$\n",
    "donde $S_{bin}$ es el tamaño promedio del préstamo por bin (constante), y $IT_{bin}, IP_{bin}$ son los intereses pagados por los clientes que pagan en su totalidad y parcialmente, respectivamente.\n",
    "\n",
    "Entonces, nuestra función a maximizar es:\n",
    "$$ f = \\sum_{bin}(RT_{bin} + RP_{bin} - DC_{bin}) - MKT,$$\n",
    "donde $MKT$ es el costo de marketing por atraer los N prospectos.\n",
    "\n",
    "Veamos su apariencia:"
   ]
  },
  {
   "cell_type": "code",
   "execution_count": 19,
   "metadata": {
    "collapsed": false
   },
   "outputs": [
    {
     "data": {
      "text/plain": [
       "<matplotlib.text.Text at 0x117bdeb00>"
      ]
     },
     "execution_count": 19,
     "metadata": {},
     "output_type": "execute_result"
    },
    {
     "data": {
      "image/png": "[encoded data removed]",
      "text/plain": [
       "<matplotlib.figure.Figure at 0x1178c59b0>"
      ]
     },
     "metadata": {},
     "output_type": "display_data"
    }
   ],
   "source": [
    "from numpy import array, cumsum\n",
    "N = 1200\n",
    "MKT = 500000\n",
    "S_bin = 6000\n",
    "L_bin = 3000\n",
    "IT_bin = 0.20\n",
    "IP_bin = 0.40\n",
    "purity_by_bin = array(purity_by_bin)\n",
    "default_by_bin = -1*(purity_by_bin - 1.0)\n",
    "efficiency_by_bin = array(efficiency_by_bin)\n",
    "DC_bin = N * efficiency_by_bin * default_by_bin * L_bin\n",
    "RT_bin = N * efficiency_by_bin * purity_by_bin * S_bin * IT_bin\n",
    "RP_bin = N * efficiency_by_bin * default_by_bin * (S_bin - L_bin) * IP_bin\n",
    "f_bin = RT_bin + RP_bin - DC_bin\n",
    "plt.plot(score_card_range[:(len(f_bin))], f_bin, 'b')\n",
    "plt.xlabel('Valor del Score Card')\n",
    "plt.ylabel('Utilidad por bin, sin tomar en cuenta el costo de marketing')"
   ]
  },
  {
   "cell_type": "markdown",
   "metadata": {},
   "source": [
    "Ahora, la suma que tenemos indicada para definir $f$ requiere un poco de explicación. Usualmente pensaríamos que deberíamos sumar desde el bin con menor índice, sin embargo ese índice es arbitrario. El orden de la suma está impuesto por el siguiente criterio:\n",
    "\n",
    "* Definimos si aceptaremos a los clientes que cumplen con tener mayor o menor calificación.\n",
    "* En base a esto, localizamos el bin más restrictivo de nuestra selección. Por ejemplo, si, como en cunestro caso, los clientes menos riesgosos se agrupan en las calificaciones más grandes, el bin más restrictivo es el que contiene las mayores calificaciones.\n",
    "* Acumulamos todos los clientes desde el bin más restrictivo, y vamos añadiendo nuevos bins, el más restrictivo de los restantes.\n",
    "* Al finalizar este proceso, restamos el costo de marketing (también se pueden restar los costos de operación).\n",
    "* Localizamos el punto en el que se maximiza la función, ese es el corte que deberíamos escojer, porque es el que maimiza las utilidades."
   ]
  },
  {
   "cell_type": "code",
   "execution_count": 20,
   "metadata": {
    "collapsed": false
   },
   "outputs": [
    {
     "data": {
      "text/plain": [
       "<matplotlib.text.Text at 0x117cb84a8>"
      ]
     },
     "execution_count": 20,
     "metadata": {},
     "output_type": "execute_result"
    },
    {
     "data": {
      "image/png": "[encoded data removed]",
      "text/plain": [
       "<matplotlib.figure.Figure at 0x1178a50b8>"
      ]
     },
     "metadata": {},
     "output_type": "display_data"
    }
   ],
   "source": [
    "f = cumsum(f_bin[::-1])[::-1] - MKT\n",
    "plt.plot(score_card_range[:(len(f))], f, 'b')\n",
    "plt.xlabel('Valor del Score Card')\n",
    "plt.ylabel('Utilidad seleccionando x como valor mínimo')"
   ]
  },
  {
   "cell_type": "markdown",
   "metadata": {},
   "source": [
    "### ¿Cómo evaluamos que tan robusto es nuestro modelo?\n",
    "### Bootrsapping\n",
    "\n",
    "* Hacemos N variaciones aleatorias de nuestra muestra de prueba\n",
    "* Reevaluamos la utilidad (o función a maximizar (minimizar)) para cada una de las N nuevas muestras\n",
    "* Usamos alguna medida de dispersión para estimar alguna variación esperada, por ejemplo la desviación estándar."
   ]
  },
  {
   "cell_type": "code",
   "execution_count": 21,
   "metadata": {
    "collapsed": false
   },
   "outputs": [],
   "source": [
    "def bootstrapped_utility():\n",
    "    df_bs = df_testing.sample(frac=1, replace=True)\n",
    "    df_bs_good = df_bs[df_bs['is_good']==1] \n",
    "    df_bs_bad = df_bs[df_bs['is_good']!=1]\n",
    "    hbs_good = cut(df_bs_good['score_card'], bins=score_card_range)\n",
    "    hbs_bad = cut(df_bs_bad['score_card'], bins=score_card_range)\n",
    "    bs_purity_by_bin = []\n",
    "    bs_efficiency_by_bin = []\n",
    "    for g in range(0,len(hbs_good.value_counts())):\n",
    "        sum_g_b = hbs_good.value_counts()[g] + hbs_bad.value_counts()[g]\n",
    "        if sum_g_b !=0:\n",
    "            bs_purity_by_bin.append(1.0*hbs_good.value_counts()[g]/sum_g_b)\n",
    "        else:\n",
    "            bs_purity_by_bin.append(1.0*hbs_good.value_counts()[g])\n",
    "        bs_efficiency_by_bin.append(1.0*sum_g_b/(hbs_good.size+hbs_bad.size))\n",
    "    bs_purity_by_bin = array(bs_purity_by_bin)\n",
    "    bs_default_by_bin = -1*(bs_purity_by_bin - 1.0)\n",
    "    bs_efficiency_by_bin = array(bs_efficiency_by_bin)\n",
    "    bs_DC_bin = N * bs_efficiency_by_bin * bs_default_by_bin * L_bin\n",
    "    bs_RT_bin = N * bs_efficiency_by_bin * bs_purity_by_bin * S_bin * IT_bin\n",
    "    bs_RP_bin = N * bs_efficiency_by_bin * bs_default_by_bin * (S_bin - L_bin) * IP_bin\n",
    "    bs_f_bin = bs_RT_bin + bs_RP_bin - bs_DC_bin\n",
    "    bs_f = cumsum(bs_f_bin[::-1])[::-1] - MKT \n",
    "    return bs_f"
   ]
  },
  {
   "cell_type": "code",
   "execution_count": 22,
   "metadata": {
    "collapsed": false
   },
   "outputs": [
    {
     "data": {
      "text/plain": [
       "<matplotlib.text.Text at 0x117e3b828>"
      ]
     },
     "execution_count": 22,
     "metadata": {},
     "output_type": "execute_result"
    },
    {
     "data": {
      "image/png": "[encoded data removed]",
      "text/plain": [
       "<matplotlib.figure.Figure at 0x117cba7b8>"
      ]
     },
     "metadata": {},
     "output_type": "display_data"
    }
   ],
   "source": [
    "bs_f = bootstrapped_utility()\n",
    "plt.plot(score_card_range[:(len(f))], bs_f, 'b')\n",
    "plt.xlabel('Valor del Score Card')\n",
    "plt.ylabel('Utilidad seleccionando x como valor mínimo')"
   ]
  },
  {
   "cell_type": "code",
   "execution_count": 23,
   "metadata": {
    "collapsed": false
   },
   "outputs": [
    {
     "data": {
      "text/html": [
       "<div>\n",
       "<table border=\"1\" class=\"dataframe\">\n",
       "  <thead>\n",
       "    <tr style=\"text-align: right;\">\n",
       "      <th></th>\n",
       "      <th>0</th>\n",
       "      <th>1</th>\n",
       "      <th>2</th>\n",
       "      <th>3</th>\n",
       "      <th>4</th>\n",
       "      <th>5</th>\n",
       "      <th>6</th>\n",
       "      <th>7</th>\n",
       "      <th>8</th>\n",
       "    </tr>\n",
       "  </thead>\n",
       "  <tbody>\n",
       "    <tr>\n",
       "      <th>count</th>\n",
       "      <td>100.000000</td>\n",
       "      <td>100.000000</td>\n",
       "      <td>100.000000</td>\n",
       "      <td>100.000000</td>\n",
       "      <td>100.000000</td>\n",
       "      <td>100.000000</td>\n",
       "      <td>100.000000</td>\n",
       "      <td>100.000000</td>\n",
       "      <td>100.000000</td>\n",
       "    </tr>\n",
       "    <tr>\n",
       "      <th>mean</th>\n",
       "      <td>-8720.000000</td>\n",
       "      <td>-8720.000000</td>\n",
       "      <td>5392.000000</td>\n",
       "      <td>16048.000000</td>\n",
       "      <td>73120.000000</td>\n",
       "      <td>23320.000000</td>\n",
       "      <td>-21176.000000</td>\n",
       "      <td>-123632.000000</td>\n",
       "      <td>-280664.000000</td>\n",
       "    </tr>\n",
       "    <tr>\n",
       "      <th>std</th>\n",
       "      <td>86243.966851</td>\n",
       "      <td>86243.966851</td>\n",
       "      <td>84865.964052</td>\n",
       "      <td>84285.216217</td>\n",
       "      <td>78758.364635</td>\n",
       "      <td>71621.936711</td>\n",
       "      <td>67190.904146</td>\n",
       "      <td>53881.356533</td>\n",
       "      <td>37628.453451</td>\n",
       "    </tr>\n",
       "    <tr>\n",
       "      <th>min</th>\n",
       "      <td>-224000.000000</td>\n",
       "      <td>-224000.000000</td>\n",
       "      <td>-216800.000000</td>\n",
       "      <td>-197600.000000</td>\n",
       "      <td>-130400.000000</td>\n",
       "      <td>-152000.000000</td>\n",
       "      <td>-190400.000000</td>\n",
       "      <td>-262400.000000</td>\n",
       "      <td>-392000.000000</td>\n",
       "    </tr>\n",
       "    <tr>\n",
       "      <th>25%</th>\n",
       "      <td>-56000.000000</td>\n",
       "      <td>-56000.000000</td>\n",
       "      <td>-44600.000000</td>\n",
       "      <td>-30200.000000</td>\n",
       "      <td>22600.000000</td>\n",
       "      <td>-34400.000000</td>\n",
       "      <td>-66200.000000</td>\n",
       "      <td>-162200.000000</td>\n",
       "      <td>-303200.000000</td>\n",
       "    </tr>\n",
       "    <tr>\n",
       "      <th>50%</th>\n",
       "      <td>4000.000000</td>\n",
       "      <td>4000.000000</td>\n",
       "      <td>14800.000000</td>\n",
       "      <td>30400.000000</td>\n",
       "      <td>80800.000000</td>\n",
       "      <td>29200.000000</td>\n",
       "      <td>-23600.000000</td>\n",
       "      <td>-125600.000000</td>\n",
       "      <td>-276800.000000</td>\n",
       "    </tr>\n",
       "    <tr>\n",
       "      <th>75%</th>\n",
       "      <td>40000.000000</td>\n",
       "      <td>40000.000000</td>\n",
       "      <td>56200.000000</td>\n",
       "      <td>64600.000000</td>\n",
       "      <td>115000.000000</td>\n",
       "      <td>78400.000000</td>\n",
       "      <td>28000.000000</td>\n",
       "      <td>-80000.000000</td>\n",
       "      <td>-257000.000000</td>\n",
       "    </tr>\n",
       "    <tr>\n",
       "      <th>max</th>\n",
       "      <td>184000.000000</td>\n",
       "      <td>184000.000000</td>\n",
       "      <td>205600.000000</td>\n",
       "      <td>251200.000000</td>\n",
       "      <td>282400.000000</td>\n",
       "      <td>186400.000000</td>\n",
       "      <td>114400.000000</td>\n",
       "      <td>-3200.000000</td>\n",
       "      <td>-180800.000000</td>\n",
       "    </tr>\n",
       "  </tbody>\n",
       "</table>\n",
       "</div>"
      ],
      "text/plain": [
       "                   0              1              2              3  \\\n",
       "count     100.000000     100.000000     100.000000     100.000000   \n",
       "mean    -8720.000000   -8720.000000    5392.000000   16048.000000   \n",
       "std     86243.966851   86243.966851   84865.964052   84285.216217   \n",
       "min   -224000.000000 -224000.000000 -216800.000000 -197600.000000   \n",
       "25%    -56000.000000  -56000.000000  -44600.000000  -30200.000000   \n",
       "50%      4000.000000    4000.000000   14800.000000   30400.000000   \n",
       "75%     40000.000000   40000.000000   56200.000000   64600.000000   \n",
       "max    184000.000000  184000.000000  205600.000000  251200.000000   \n",
       "\n",
       "                   4              5              6              7  \\\n",
       "count     100.000000     100.000000     100.000000     100.000000   \n",
       "mean    73120.000000   23320.000000  -21176.000000 -123632.000000   \n",
       "std     78758.364635   71621.936711   67190.904146   53881.356533   \n",
       "min   -130400.000000 -152000.000000 -190400.000000 -262400.000000   \n",
       "25%     22600.000000  -34400.000000  -66200.000000 -162200.000000   \n",
       "50%     80800.000000   29200.000000  -23600.000000 -125600.000000   \n",
       "75%    115000.000000   78400.000000   28000.000000  -80000.000000   \n",
       "max    282400.000000  186400.000000  114400.000000   -3200.000000   \n",
       "\n",
       "                   8  \n",
       "count     100.000000  \n",
       "mean  -280664.000000  \n",
       "std     37628.453451  \n",
       "min   -392000.000000  \n",
       "25%   -303200.000000  \n",
       "50%   -276800.000000  \n",
       "75%   -257000.000000  \n",
       "max   -180800.000000  "
      ]
     },
     "execution_count": 23,
     "metadata": {},
     "output_type": "execute_result"
    }
   ],
   "source": [
    "bs_f = bootstrapped_utility()\n",
    "bs_df = DataFrame(bs_f)\n",
    "bs_df = bs_df.transpose()\n",
    "for n in range(0,100):\n",
    "    bs_f = bootstrapped_utility()\n",
    "    bs_df_tmp = DataFrame(bs_f)\n",
    "    bs_df_tmp = bs_df_tmp.transpose()\n",
    "    bs_df.loc[n]=bs_df_tmp.loc[0]      \n",
    "bs_results=bs_df.describe()\n",
    "bs_results"
   ]
  },
  {
   "cell_type": "code",
   "execution_count": 24,
   "metadata": {
    "collapsed": false
   },
   "outputs": [
    {
     "data": {
      "text/plain": [
       "<matplotlib.collections.PolyCollection at 0x118419cf8>"
      ]
     },
     "execution_count": 24,
     "metadata": {},
     "output_type": "execute_result"
    },
    {
     "data": {
      "image/png": "[encoded data removed]",
      "text/plain": [
       "<matplotlib.figure.Figure at 0x117f28ef0>"
      ]
     },
     "metadata": {},
     "output_type": "display_data"
    }
   ],
   "source": [
    "bs_mean = bs_results.loc['mean',]\n",
    "bs_std = bs_results.loc['std',]\n",
    "plt.plot(score_card_range[:(len(bs_mean))], bs_mean, 'k', color='blue')\n",
    "plt.fill_between(score_card_range[:(len(bs_mean))], bs_mean-bs_std, bs_mean+bs_std,\n",
    "    alpha=0.4, edgecolor='blue', facecolor='blue')"
   ]
  },
  {
   "cell_type": "markdown",
   "metadata": {},
   "source": [
    "**Conclusión**\n",
    "A priori no parece un mal modelo, sin embargo no se ve muy robusto, y parece que no es improbable que las fluctuaciones estadísticas puedan generar pérdidas si se otorgan préstamos usando este _score card_."
   ]
  }
 ],
 "metadata": {
  "kernelspec": {
   "display_name": "Python 3",
   "language": "python",
   "name": "python3"
  },
  "language_info": {
   "codemirror_mode": {
    "name": "ipython",
    "version": 3
   },
   "file_extension": ".py",
   "mimetype": "text/x-python",
   "name": "python",
   "nbconvert_exporter": "python",
   "pygments_lexer": "ipython3",
   "version": "3.5.1"
  }
 },
 "nbformat": 4,
 "nbformat_minor": 0
}
