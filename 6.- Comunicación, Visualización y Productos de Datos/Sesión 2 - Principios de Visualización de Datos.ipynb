{
 "cells": [
  {
   "cell_type": "markdown",
   "metadata": {},
   "source": [
    "1. Análisis de datos temporales\n",
    "\n",
    "    * Gráfico de barras para series de tiempo (pros y contras)\n",
    "    * Gráfico de líneas para series de tiempo (pros y contras)\n",
    "    * Transformaciones de datos\n",
    "    * Barras agrupadas vs. barras apiladas\n",
    "    * Small-multiples \n",
    "    * Relación de aspecto y consistencia de ejes (aspect ratio)\n",
    "    * Heatmaps\n",
    "    * Comparación de dos períodos\n",
    "    * Slopegraph\n",
    "\n",
    "2. ¿Inicio del Eje-Y en ceros?\n",
    "\n",
    "3. Análisis temporal de proporciones\n",
    "    * Barras apiladas para shares\n",
    "    * Stacked areas 100%\n",
    "\n",
    "4. Análisis de frecuencias y proporciones\n",
    "    * Barras horizontales y análisis de baseline\n",
    "    * Barras apiladas horizontales y sus aplicaciones\n",
    "    * Box-plots y violin-plots\n",
    "\n",
    "5. Pie-Charts, pros y contras\n",
    "    * Pies vs. Barrras\n",
    "    * Desventajas de los pie-charts\n",
    "    \n",
    "6. Análisis de rankings\n",
    "    * Packed bubble chart\n",
    "    * Gráfico de barras horizontal\n",
    "\n",
    "7. Análisis de jerarquías\n",
    "    * Treemaps\n",
    "    \n",
    "8. Visualizaciones cartesianas vs. radiales\n",
    "    * Radar o spider charts\n",
    "\n",
    "9. Relaciones y datos multidimensionales\n",
    "    * Scatterplot\n",
    "    * Bubble chart\n",
    "    * Heatmap para datos multivariados\n",
    "\n",
    "10. Visualización de datos geográficos\n",
    "    * Choroplet\n",
    "    * Geo-scatterplot\n",
    "    * Gráfico de densidad de puntos\n",
    "    * Heatmaps geográficos\n",
    "\n",
    "11. Selección de escala de color\n",
    "\n",
    "12. Herramientas para visualizaciones\n",
    "    \n",
    "\n",
    "\n",
    "\n",
    "\n",
    "\n",
    "\n"
   ]
  }
 ],
 "metadata": {
  "kernelspec": {
   "display_name": "Python 2",
   "language": "python",
   "name": "python2"
  },
  "language_info": {
   "codemirror_mode": {
    "name": "ipython",
    "version": 2
   },
   "file_extension": ".py",
   "mimetype": "text/x-python",
   "name": "python",
   "nbconvert_exporter": "python",
   "pygments_lexer": "ipython2",
   "version": "2.7.10"
  }
 },
 "nbformat": 4,
 "nbformat_minor": 0
}
