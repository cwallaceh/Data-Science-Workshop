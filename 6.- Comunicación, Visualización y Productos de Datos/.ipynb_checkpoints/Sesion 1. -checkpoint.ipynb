{
 "cells": [
  {
   "cell_type": "markdown",
   "metadata": {},
   "source": [
    "# Comunicación, visualización y productos de datos\n",
    "# Sesión 1\n",
    "-----\n",
    "\n",
    "\n",
    "## 1. Productos y productos de datos\n",
    "  - Definición de producto\n",
    "  - Productos de datos\n",
    "  - Ejemplos de productos de datos\n",
    "\n",
    "## 2. Principios de diseño de producto\n",
    "  - Características de los productos exitosos\n",
    "  - Caracterización del usuario\n",
    "  - Definición y priorización de features del producto\n",
    "  \n",
    "## 3. Storytelling\n",
    "  - Elementos principales de una historia de datos\n",
    "  - Uso de los atributos preatentivos\n",
    "  - Leyes de Tufte y Data-Ink ratio\n",
    "  \n",
    "## 4. Generación de engagement\n",
    "  - Principios de diseño emocional\n",
    "  - Principios y técnicas de gamification\n",
    "  - Estética\n",
    " \n",
    "## 5. Galería de productos de datos"
   ]
  }
 ],
 "metadata": {
  "kernelspec": {
   "display_name": "Python 2",
   "language": "python",
   "name": "python2"
  },
  "language_info": {
   "codemirror_mode": {
    "name": "ipython",
    "version": 2
   },
   "file_extension": ".py",
   "mimetype": "text/x-python",
   "name": "python",
   "nbconvert_exporter": "python",
   "pygments_lexer": "ipython2",
   "version": "2.7.10"
  }
 },
 "nbformat": 4,
 "nbformat_minor": 0
}
